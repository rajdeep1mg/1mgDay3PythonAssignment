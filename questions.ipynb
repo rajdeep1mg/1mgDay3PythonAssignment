{
 "cells": [
  {
   "cell_type": "markdown",
   "id": "386662c5",
   "metadata": {},
   "source": [
    "# Day 1: Python"
   ]
  },
  {
   "cell_type": "markdown",
   "id": "574c9952",
   "metadata": {},
   "source": [
    "Visualize Python: https://pythontutor.com/visualize.html#mode=edit"
   ]
  },
  {
   "cell_type": "code",
   "execution_count": 1,
   "id": "921ec452",
   "metadata": {},
   "outputs": [
    {
     "name": "stdout",
     "output_type": "stream",
     "text": [
      "3\n"
     ]
    }
   ],
   "source": [
    "#What will this script produce?\n",
    "a = 1\n",
    "a = 2\n",
    "a = 3\n",
    "print(a)\n",
    "# Ans : 3\n"
   ]
  },
  {
   "cell_type": "code",
   "execution_count": 2,
   "id": "72f2ce0c",
   "metadata": {},
   "outputs": [
    {
     "name": "stdout",
     "output_type": "stream",
     "text": [
      "3\n"
     ]
    }
   ],
   "source": [
    "#The script generates an error. Please add the appropriate code that adds variables a and b without an error.\n",
    "#a = \"1\"\n",
    "a = int(\"1\")\n",
    "b = 2\n",
    "print(a + b)\n"
   ]
  },
  {
   "cell_type": "code",
   "execution_count": 3,
   "id": "41bcff56",
   "metadata": {},
   "outputs": [
    {
     "name": "stdout",
     "output_type": "stream",
     "text": [
      "b\n"
     ]
    }
   ],
   "source": [
    "#Complete the script so that it prints out the second letter of the list\n",
    "letters = [\"a\", \"b\", \"c\", \"d\", \"e\", \"f\", \"g\", \"h\", \"i\", \"j\"]\n",
    "print(letters[1])"
   ]
  },
  {
   "cell_type": "code",
   "execution_count": 9,
   "id": "ced72e9a",
   "metadata": {},
   "outputs": [
    {
     "name": "stdout",
     "output_type": "stream",
     "text": [
      "['d', 'e', 'f']\n"
     ]
    }
   ],
   "source": [
    "#Complete the script so that it prints out a list containing letters d, e, f.\n",
    "letters = [\"a\", \"b\", \"c\", \"d\", \"e\", \"f\", \"g\", \"h\", \"i\", \"j\"]\n",
    "newlist = []\n",
    "for index in range(3,6):\n",
    "    newlist.append(letters[index])\n",
    "print(newlist)\n"
   ]
  },
  {
   "cell_type": "code",
   "execution_count": 10,
   "id": "656da0cc",
   "metadata": {},
   "outputs": [
    {
     "name": "stdout",
     "output_type": "stream",
     "text": [
      "['a', 'b', 'c']\n"
     ]
    }
   ],
   "source": [
    "#Complete the script so that it prints out a list containing the first three elements of list letters\n",
    "letters = [\"a\", \"b\", \"c\", \"d\", \"e\", \"f\", \"g\", \"h\", \"i\", \"j\"]\n",
    "newlist = []\n",
    "for index in range(0,3):\n",
    "    newlist.append(letters[index])\n",
    "print(newlist)\n"
   ]
  },
  {
   "cell_type": "code",
   "execution_count": 11,
   "id": "517e5246",
   "metadata": {},
   "outputs": [
    {
     "name": "stdout",
     "output_type": "stream",
     "text": [
      "i\n"
     ]
    }
   ],
   "source": [
    "#Complete the script so that it prints out the letter i using negative indexing\n",
    "letters = [\"a\", \"b\", \"c\", \"d\", \"e\", \"f\", \"g\", \"h\", \"i\", \"j\"]\n",
    "print(letters[-2])\n"
   ]
  },
  {
   "cell_type": "code",
   "execution_count": 14,
   "id": "30df767b",
   "metadata": {},
   "outputs": [
    {
     "name": "stdout",
     "output_type": "stream",
     "text": [
      "['h', 'i', 'j']\n"
     ]
    }
   ],
   "source": [
    "#Complete the script so that it prints out a list containing the last three elements of list letters\n",
    "letters = [\"a\", \"b\", \"c\", \"d\", \"e\", \"f\", \"g\", \"h\", \"i\", \"j\"]\n",
    "newlist =[]\n",
    "for index in range(len(letters) - 1,len(letters) - 4 ,-1):\n",
    "    newlist.append(letters[index])\n",
    "\n",
    "newlist.reverse()\n",
    "print(newlist)\n"
   ]
  },
  {
   "cell_type": "code",
   "execution_count": 15,
   "id": "62376a36",
   "metadata": {},
   "outputs": [
    {
     "name": "stdout",
     "output_type": "stream",
     "text": [
      "['a', 'c', 'e', 'g', 'i']\n"
     ]
    }
   ],
   "source": [
    "#Complete the script so that it prints out a list containing letters a, c, e, g, and i so the at a step of two\n",
    "letters = [\"a\", \"b\", \"c\", \"d\", \"e\", \"f\", \"g\", \"h\", \"i\", \"j\"]\n",
    "\n",
    "newlist = []\n",
    "for index in range(0,len(letters),2):\n",
    "    newlist.append(letters[index])\n",
    "\n",
    "print(newlist)\n"
   ]
  },
  {
   "cell_type": "code",
   "execution_count": 16,
   "id": "4abe4147",
   "metadata": {},
   "outputs": [
    {
     "name": "stdout",
     "output_type": "stream",
     "text": [
      "[1, 2, 3, 4, 5, 6, 7, 8, 9, 10, 11, 12, 13, 14, 15, 16, 17, 18, 19, 20]\n"
     ]
    }
   ],
   "source": [
    "#Create a script that generates a list of numbers from 1 to 20. Do not create a list manually.\n",
    "newlist = []\n",
    "\n",
    "for number in range(1,21,1):\n",
    "    newlist.append(number)\n",
    "print(newlist)"
   ]
  },
  {
   "cell_type": "code",
   "execution_count": 31,
   "id": "3764de23",
   "metadata": {},
   "outputs": [
    {
     "name": "stdout",
     "output_type": "stream",
     "text": [
      "[10, 20, 30, 40, 50]\n"
     ]
    }
   ],
   "source": [
    "#Create a script that generates a list whose items are products of the original list items multiplied by 10\n",
    "original_list = [1,2,3,4,5]\n",
    "new_list = []\n",
    "for x in original_list:\n",
    "    new_list.append(x*10)\n",
    "print(new_list)\n",
    "\n"
   ]
  },
  {
   "cell_type": "code",
   "execution_count": 35,
   "id": "894c7f70",
   "metadata": {},
   "outputs": [
    {
     "name": "stdout",
     "output_type": "stream",
     "text": [
      "['1', '2', '3', '4', '5', '6', '7', '8', '9', '10', '11', '12', '13', '14', '15', '16', '17', '18', '19', '20']\n"
     ]
    }
   ],
   "source": [
    "#Create a script that converts all items of the range to strings\n",
    "my_range = range(1, 21)\n",
    "my_list = list(my_range)\n",
    "\n",
    "for index in range(0,len(my_list)):\n",
    "    my_list[index] = str(my_list[index])\n",
    "print(my_list)"
   ]
  },
  {
   "cell_type": "code",
   "execution_count": 19,
   "id": "e4ca7775",
   "metadata": {},
   "outputs": [
    {
     "name": "stdout",
     "output_type": "stream",
     "text": [
      "['1', 1, 2]\n"
     ]
    }
   ],
   "source": [
    "#Write a script that remove duplicates from a list\n",
    "a = [\"1\", 1, \"1\", 2]\n",
    "newlist = []\n",
    "for item in a:\n",
    "    if item in newlist:\n",
    "        continue\n",
    "    else:\n",
    "        newlist.append(item)\n",
    "a = newlist\n",
    "print(a)\n"
   ]
  },
  {
   "cell_type": "code",
   "execution_count": 20,
   "id": "8eb82355",
   "metadata": {},
   "outputs": [
    {
     "name": "stdout",
     "output_type": "stream",
     "text": [
      "{'a': 1, 'b': 2, 'c': 3}\n"
     ]
    }
   ],
   "source": [
    "#Add a c key with a value of 3 to the dictionary and print out the updated dictinary\n",
    "d = {\"a\": 1, \"b\": 2}\n",
    "d[\"c\"] = 3\n",
    "print(d)"
   ]
  },
  {
   "cell_type": "code",
   "execution_count": 21,
   "id": "f59d8d65",
   "metadata": {},
   "outputs": [
    {
     "name": "stdout",
     "output_type": "stream",
     "text": [
      "6\n"
     ]
    }
   ],
   "source": [
    "#Find the sum of all values\n",
    "d = {\"a\": 1, \"b\": 2, \"c\": 3}\n",
    "sum = 0\n",
    "for val in d.values():\n",
    "    sum+=val\n",
    "print(sum)\n"
   ]
  },
  {
   "cell_type": "code",
   "execution_count": 22,
   "id": "75cdf7e1",
   "metadata": {},
   "outputs": [
    {
     "name": "stdout",
     "output_type": "stream",
     "text": [
      "{'b': 2, 'c': 3}\n"
     ]
    }
   ],
   "source": [
    "#Filter out values of equal or greater than 2\n",
    "d = {\"a\": 1, \"b\": 2, \"c\": 3}\n",
    "\n",
    "newdictionary = {}\n",
    "for key,values in d.items():\n",
    "    if values >= 2:\n",
    "        newdictionary[key] = values\n",
    "    else:\n",
    "        continue\n",
    "d = newdictionary\n",
    "print(d)\n",
    "\n"
   ]
  },
  {
   "cell_type": "code",
   "execution_count": 27,
   "id": "f1f81fb9",
   "metadata": {},
   "outputs": [
    {
     "name": "stdout",
     "output_type": "stream",
     "text": [
      "13\n"
     ]
    }
   ],
   "source": [
    "#Access the third value of key b.\n",
    "\n",
    "d = dict(a = list(range(1, 11)), b = list(range(11, 21)), c = list(range(21, 31)))\n",
    "print(d['b'][2])\n",
    "\n"
   ]
  },
  {
   "cell_type": "code",
   "execution_count": 30,
   "id": "e3171afd",
   "metadata": {},
   "outputs": [
    {
     "name": "stdout",
     "output_type": "stream",
     "text": [
      "['a', 'b', 'c', 'd', 'e', 'f', 'g', 'h', 'i', 'j', 'k', 'l', 'm', 'n', 'o', 'p', 'q', 'r', 's', 't', 'u', 'v', 'w', 'x', 'y', 'z']\n"
     ]
    }
   ],
   "source": [
    "#Make a script that prints out letters of English alphabet from a to z\n",
    "letters = []\n",
    "for char in range(97,123):\n",
    "    curr_letter = chr(char)\n",
    "    letters.append(curr_letter)\n",
    "print(letters)\n"
   ]
  },
  {
   "cell_type": "code",
   "execution_count": 37,
   "id": "a05c43b7",
   "metadata": {},
   "outputs": [
    {
     "name": "stdout",
     "output_type": "stream",
     "text": [
      "2.0\n"
     ]
    }
   ],
   "source": [
    "#Write a function that calculates acceleration given the formula:\n",
    "#a = (v2 - v1) / t2 - t1\n",
    "\n",
    "def acceleration(v1,v2,t1,t2):\n",
    "    return (v2 - v1)/(t2 - t1)\n",
    "\n",
    "answer = acceleration(10,20,2,7)\n",
    "print(answer)\n",
    "\n",
    "\n",
    "\n"
   ]
  },
  {
   "cell_type": "code",
   "execution_count": 42,
   "id": "63c922af",
   "metadata": {},
   "outputs": [
    {
     "name": "stdout",
     "output_type": "stream",
     "text": [
      "50\n"
     ]
    }
   ],
   "source": [
    "#Why is the error and how to fix it?\n",
    "\n",
    "'''The Error occurs because None is returned from the function. \n",
    "None*10 is not defined because one is NoneType and other is int .We \n",
    "can fix this by replacing print(a+b) by return a+b'''\n",
    "def foo(a, b):\n",
    "    #print(a + b)\n",
    "    return a + b\n",
    "    \n",
    "\n",
    "x = foo(2, 3) * 10\n",
    "\n",
    "print(x)\n"
   ]
  },
  {
   "cell_type": "code",
   "execution_count": 43,
   "id": "a07b4c7d",
   "metadata": {},
   "outputs": [
    {
     "name": "stdout",
     "output_type": "stream",
     "text": [
      "7\n"
     ]
    }
   ],
   "source": [
    "#Why do you get an error and how would you fix it?\n",
    "'''Non-default arguments should not follow default arguments. The Error because here in this case a non-default argument is defined \n",
    "after default argument. To fix this we can simply change the positions'''\n",
    "'''def foo(a=2, b):\n",
    "    return a + b\n",
    "\n",
    "print(foo(3, 4))'''\n",
    "\n",
    "def foo(b, a=2):\n",
    "    return a + b\n",
    "\n",
    "print(foo(4,3))\n"
   ]
  },
  {
   "cell_type": "code",
   "execution_count": 46,
   "id": "56b4e5d2",
   "metadata": {},
   "outputs": [
    {
     "name": "stdout",
     "output_type": "stream",
     "text": [
      "['Emma25', 'scientist50']\n"
     ]
    }
   ],
   "source": [
    "# Write a program to find words with both alphabets and numbers from an input string.\n",
    "# Expected output:\n",
    "# Emma25\n",
    "# scientist50\n",
    "str1 = \"Emma25 is Data scientist50 and AI Expert\"\n",
    "words = []\n",
    "word = \"\"\n",
    "for x in str1:\n",
    "    if x == ' ':\n",
    "        words.append(word)\n",
    "        word = \"\"\n",
    "    else:\n",
    "        word+=x\n",
    "words.append(word)\n",
    "alphanumeric = []\n",
    "for x in words:\n",
    "    alphabet_present = False\n",
    "    number_present = False\n",
    "    for alphabet in x:\n",
    "        if (alphabet>='a' and alphabet <='z') or (alpahbet >= 'A' and alpahbet <= 'Z'):\n",
    "            alphabet_present = True\n",
    "        elif alphabet >='0' and alphabet <='9':\n",
    "            number_present = True\n",
    "    if alphabet_present and number_present:\n",
    "        alphanumeric.append(x)\n",
    "print(alphanumeric)\n",
    "        \n"
   ]
  },
  {
   "cell_type": "code",
   "execution_count": 48,
   "id": "4dfcee93",
   "metadata": {},
   "outputs": [
    {
     "name": "stdout",
     "output_type": "stream",
     "text": [
      "Jon is developer  musician\n"
     ]
    }
   ],
   "source": [
    "# Remove special symbols / punctuation from a string\n",
    "\n",
    "str1 = \"/*Jon is @developer & musician\"\n",
    "answer = \"\"\n",
    "for alphabet in str1:\n",
    "    if (alphabet >= 'A' and alphabet <= 'Z') or(alphabet >= 'a' and alphabet <= 'z') or (alphabet>='0' and alphabet <='9') or alphabet == ' ':\n",
    "        answer += alphabet\n",
    "str1 = answer\n",
    "print(str1)"
   ]
  },
  {
   "cell_type": "code",
   "execution_count": 53,
   "id": "469f53af",
   "metadata": {},
   "outputs": [
    {
     "name": "stdout",
     "output_type": "stream",
     "text": [
      "654.4984694978734\n",
      "314.1592653589794\n"
     ]
    }
   ],
   "source": [
    "#Write a script that calculates liquid formula taken from http://www.1728.org/spherprt.gif\n",
    "#When writing the function consider that r is always 10.\n",
    "import math\n",
    "\n",
    "radius = 10\n",
    "pi = (math.pi)\n",
    "\n",
    "def liquid_Volume(height) :\n",
    "    Sphere_Volume = (4*pi*(radius**3))/3 \n",
    "    Spherical_Volume = (pi*(height**2)*(3*radius - height))/3\n",
    "    liqVol = Sphere_Volume - Spherical_Volume\n",
    "    return liqVol\n",
    "\n",
    "def liquid_Area(height) :\n",
    "    Sphere_Area = (4*pi*(radius**2)) \n",
    "    Spherical_Cap_Area = (2*pi*radius*height)\n",
    "    liqArea = Sphere_Area - Spherical_Cap_Area\n",
    "    return liqArea\n",
    "\n",
    "print(liquid_Volume(15))\n",
    "print(liquid_Area(15))\n",
    "    \n",
    "    \n"
   ]
  }
 ],
 "metadata": {
  "kernelspec": {
   "display_name": "Python 3 (ipykernel)",
   "language": "python",
   "name": "python3"
  },
  "language_info": {
   "codemirror_mode": {
    "name": "ipython",
    "version": 3
   },
   "file_extension": ".py",
   "mimetype": "text/x-python",
   "name": "python",
   "nbconvert_exporter": "python",
   "pygments_lexer": "ipython3",
   "version": "3.9.13"
  }
 },
 "nbformat": 4,
 "nbformat_minor": 5
}
